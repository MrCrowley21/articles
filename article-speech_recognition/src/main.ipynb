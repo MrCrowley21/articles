{
 "cells": [
  {
   "cell_type": "markdown",
   "id": "3228f7ba",
   "metadata": {},
   "source": [
    " ## Hidden Markov Model (HMM)"
   ]
  },
  {
   "cell_type": "code",
   "execution_count": 2,
   "id": "7f24b947",
   "metadata": {},
   "outputs": [
    {
     "name": "stdout",
     "output_type": "stream",
     "text": [
      "Most likely hidden states: [0 0 0 2 3 3 3 3]\n"
     ]
    },
    {
     "data": {
      "image/png": "[encoded data removed]",
      "text/plain": [
       "<Figure size 640x480 with 1 Axes>"
      ]
     },
     "metadata": {},
     "output_type": "display_data"
    }
   ],
   "source": [
    "import numpy as np\n",
    "import matplotlib.pyplot as plt\n",
    "import seaborn as sns\n",
    "from hmmlearn import hmm\n",
    "  \n",
    "# Define the state space\n",
    "states = [\"Word0\", \"Word1\", \"Word2\", \"Word3\"]\n",
    "n_states = len(states)\n",
    "  \n",
    "# Define the observation space\n",
    "observations = [\"Loud\", \"Soft\"]\n",
    "n_observations = len(observations)\n",
    "  \n",
    "# Define the initial state distribution\n",
    "start_probability = np.array([0.8, 0.1, 0.1, 0.0])\n",
    "  \n",
    "transition_probability = np.array([[0.7, 0.2, 0.1, 0.0],\n",
    "                                    [0.0, 0.6, 0.4, 0.0],\n",
    "                                    [0.0, 0.0, 0.6, 0.4],\n",
    "                                    [0.0, 0.0, 0.0, 1.0]])\n",
    "  \n",
    "# Define the observation likelihoods\n",
    "emission_probability = np.array([[0.7, 0.3],\n",
    "                                  [0.4, 0.6],\n",
    "                                  [0.6, 0.4],\n",
    "                                  [0.3, 0.7]])\n",
    "  \n",
    "# Fit the model\n",
    "model = hmm.CategoricalHMM(n_components=n_states)\n",
    "model.startprob_ = start_probability\n",
    "model.transmat_ = transition_probability\n",
    "model.emissionprob_ = emission_probability\n",
    "  \n",
    "# Define the sequence of observations\n",
    "observations_sequence = np.array([0, 0, 0, 0, 1, 1, 0, 1]).reshape(-1, 1)\n",
    "  \n",
    "# Predict the most likely hidden states\n",
    "hidden_states = model.predict(observations_sequence)\n",
    "print(\"Most likely hidden states:\", hidden_states)\n",
    "  \n",
    "# Plot the results\n",
    "sns.set_style(\"darkgrid\")\n",
    "plt.plot(hidden_states, '-o', label=\"Hidden State\")\n",
    "plt.legend()\n",
    "plt.show()"
   ]
  },
  {
   "cell_type": "markdown",
   "id": "d57101ba",
   "metadata": {},
   "source": [
    "## The Viterbi algorithm"
   ]
  },
  {
   "cell_type": "code",
   "execution_count": 3,
   "id": "c984d1ad",
   "metadata": {},
   "outputs": [
    {
     "name": "stdout",
     "output_type": "stream",
     "text": [
      "       0       1       2\n",
      "Word1: 0.30000 0.08400 0.00588\n",
      "Word2: 0.04000 0.02700 0.01512\n",
      "The steps of states are Word1 Word1 Word2 with highest probability of 0.01512\n"
     ]
    }
   ],
   "source": [
    "obs = (\"sound1\", \"sound2\", \"sound3\")\n",
    "states = (\"Word1\", \"Word2\")\n",
    "start_p = {\"Word1\": 0.6, \"Word2\": 0.4}\n",
    "trans_p = {\n",
    "    \"Word1\": {\"Word1\": 0.7, \"Word2\": 0.3},\n",
    "    \"Word2\": {\"Word1\": 0.4, \"Word2\": 0.6},\n",
    "}\n",
    "emit_p = {\n",
    "    \"Word1\": {\"sound1\": 0.5, \"sound2\": 0.4, \"sound3\": 0.1},\n",
    "    \"Word2\": {\"sound1\": 0.1, \"sound2\": 0.3, \"sound3\": 0.6},\n",
    "}\n",
    "\n",
    "def viterbi(obs, states, start_p, trans_p, emit_p):\n",
    "    V = [{}]\n",
    "    for st in states:\n",
    "        V[0] [st] = {\"prob\": start_p[st] * emit_p[st] [obs[0]], \"prev\": None}\n",
    "    # Run Viterbi when t > 0\n",
    "    for t in range(1, len(obs)):\n",
    "        V.append({})\n",
    "        for st in states:\n",
    "            max_tr_prob = V[t - 1] [states[0]] [\"prob\"] * trans_p[states[0]] [st] * emit_p[st] [obs[t]]\n",
    "            prev_st_selected = states[0]\n",
    "            for prev_st in states[1:]:\n",
    "                tr_prob = V[t - 1] [prev_st] [\"prob\"] * trans_p[prev_st] [st] * emit_p[st] [obs[t]]\n",
    "                if tr_prob > max_tr_prob:\n",
    "                    max_tr_prob = tr_prob\n",
    "                    prev_st_selected = prev_st\n",
    "\n",
    "            max_prob = max_tr_prob\n",
    "            V[t] [st] = {\"prob\": max_prob, \"prev\": prev_st_selected}\n",
    "\n",
    "    for line in dptable(V):\n",
    "        print(line)\n",
    "\n",
    "    opt = []\n",
    "    max_prob = 0.0\n",
    "    best_st = None\n",
    "    # Get most probable state and its backtrack\n",
    "    for st, data in V[-1].items():\n",
    "        if data[\"prob\"] > max_prob:\n",
    "            max_prob = data[\"prob\"]\n",
    "            best_st = st\n",
    "    opt.append(best_st)\n",
    "    previous = best_st\n",
    "\n",
    "    # Follow the backtrack till the first observation\n",
    "    for t in range(len(V) - 2, -1, -1):\n",
    "        opt.insert(0, V[t + 1] [previous] [\"prev\"])\n",
    "        previous = V[t + 1] [previous] [\"prev\"]\n",
    "\n",
    "    print (\"The steps of states are \" + \" \".join(opt) + \" with highest probability of %s\" % max_prob)\n",
    "\n",
    "def dptable(V):\n",
    "    # Print a table of steps from dictionary\n",
    "    yield \" \" * 5 + \"     \".join((\"%3d\" % i) for i in range(len(V)))\n",
    "    for state in V[0]:\n",
    "        yield \"%.7s: \" % state + \" \".join(\"%.7s\" % (\"%lf\" % v[state] [\"prob\"]) for v in V)\n",
    "        \n",
    "viterbi(obs,states,start_p,trans_p,emit_p)"
   ]
  },
  {
   "cell_type": "markdown",
   "id": "40826aec",
   "metadata": {},
   "source": [
    "### Implementation of speech recognition library"
   ]
  },
  {
   "cell_type": "code",
   "execution_count": 4,
   "id": "49a15d68",
   "metadata": {},
   "outputs": [
    {
     "name": "stdout",
     "output_type": "stream",
     "text": [
      "Spuneti acum\n",
      "Health\n"
     ]
    }
   ],
   "source": [
    "from gtts import gTTS\n",
    "import os\n",
    "from os import path\n",
    "from deep_translator import GoogleTranslator\n",
    "import speech_recognition as sp\n",
    "\n",
    "class translator_9:\n",
    "    def __init__(self,language):\n",
    "        self.language = language\n",
    "\n",
    "    def get_audio(self):\n",
    "        mic = sp.Microphone(device_index=0)\n",
    "        r = sp.Recognizer()\n",
    "        with mic as source:\n",
    "            print(\"Spuneti acum\")\n",
    "            audio = r.listen(source)\n",
    "        try:\n",
    "            c = r.recognize_google(audio, language=\"ro-RO\")\n",
    "        except:\n",
    "            print(\"Something go wrong\")\n",
    "        return c\n",
    "    def translate(self,c):\n",
    "        translated = GoogleTranslator(source='auto', target=self.language).translate(c)\n",
    "        print(translated)\n",
    "        return translated\n",
    "    def voice(self,trans):\n",
    "        myobj = gTTS(text=trans, lang=self.language, slow=False)\n",
    "        myobj.save(\"welcome.mp3\")\n",
    "        os.system(\"welcome.mp3\")\n",
    "\n",
    "# possible languages: 'de','en','ro'....\n",
    "# Translators- LingueeTranslator, GoogleTranslator, MyMemoryTranslator, PonsTranslator.\n",
    "Ion = translator_9('en')\n",
    "c = Ion.get_audio()\n",
    "trans = Ion.translate(c)\n",
    "Ion.voice(trans)\n",
    "# Instead of mic(microphone) we can also read from an existing audio file."
   ]
  },
  {
   "cell_type": "code",
   "execution_count": null,
   "id": "2d825061",
   "metadata": {},
   "outputs": [],
   "source": []
  }
 ],
 "metadata": {
  "kernelspec": {
   "display_name": "Python 3 (ipykernel)",
   "language": "python",
   "name": "python3"
  },
  "language_info": {
   "codemirror_mode": {
    "name": "ipython",
    "version": 3
   },
   "file_extension": ".py",
   "mimetype": "text/x-python",
   "name": "python",
   "nbconvert_exporter": "python",
   "pygments_lexer": "ipython3",
   "version": "3.11.4"
  }
 },
 "nbformat": 4,
 "nbformat_minor": 5
}
