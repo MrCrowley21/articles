{
 "cells": [
  {
   "cell_type": "code",
   "execution_count": 35,
   "metadata": {},
   "outputs": [],
   "source": [
    "from molda import LTUVectorizer"
   ]
  },
  {
   "cell_type": "code",
   "execution_count": 36,
   "metadata": {},
   "outputs": [],
   "source": [
    "document = [\n",
    "    '''I love my dog\n",
    "    and I like pet him.''',\n",
    "    'I love my cat!',\n",
    "    \"I like to pet my cat.\",\n",
    "    \"I enjoy playing with both, cats and dogs.\"\n",
    "]"
   ]
  },
  {
   "cell_type": "code",
   "execution_count": 37,
   "metadata": {},
   "outputs": [
    {
     "name": "stdout",
     "output_type": "stream",
     "text": [
      "  (0, 7)\t1.4242701385551153\n",
      "  (0, 11)\t1.122910936582831\n",
      "  (0, 8)\t1.122910936582831\n",
      "  (0, 0)\t1.122910936582831\n",
      "  (0, 4)\t1.4242701385551153\n",
      "  (0, 10)\t0.9090931800308315\n",
      "  (0, 9)\t1.122910936582831\n",
      "  (1, 2)\t1.122910936582831\n",
      "  (1, 10)\t0.9090931800308315\n",
      "  (1, 9)\t1.122910936582831\n",
      "  (2, 13)\t1.4242701385551153\n",
      "  (2, 2)\t1.122910936582831\n",
      "  (2, 11)\t1.122910936582831\n",
      "  (2, 8)\t1.122910936582831\n",
      "  (2, 10)\t0.9090931800308315\n",
      "  (3, 5)\t1.4242701385551153\n",
      "  (3, 3)\t1.4242701385551153\n",
      "  (3, 1)\t1.4242701385551153\n",
      "  (3, 14)\t1.4242701385551153\n",
      "  (3, 12)\t1.4242701385551153\n",
      "  (3, 6)\t1.4242701385551153\n",
      "  (3, 0)\t1.122910936582831\n"
     ]
    }
   ],
   "source": [
    "vectorizer = LTUVectorizer()\n",
    "sparse_matrix = vectorizer.fit_transform(document)\n",
    "print(sparse_matrix)"
   ]
  },
  {
   "cell_type": "code",
   "execution_count": 38,
   "metadata": {},
   "outputs": [
    {
     "name": "stdout",
     "output_type": "stream",
     "text": [
      "  (0, 7)\t1.1159507448271522\n",
      "  (0, 5)\t1.1159507448271522\n",
      "  (0, 2)\t1.4154420178615919\n",
      "  (0, 6)\t1.1159507448271522\n",
      "  (1, 0)\t1.1159507448271522\n",
      "  (1, 6)\t1.1159507448271522\n",
      "  (2, 0)\t1.1159507448271522\n",
      "  (2, 7)\t1.1159507448271522\n",
      "  (2, 5)\t1.1159507448271522\n",
      "  (3, 3)\t1.4154420178615919\n",
      "  (3, 1)\t1.4154420178615919\n",
      "  (3, 8)\t1.4154420178615919\n",
      "  (3, 4)\t1.4154420178615919\n"
     ]
    }
   ],
   "source": [
    "vectorizer_stop_words = LTUVectorizer(stop_words=\"english\")\n",
    "sparse_matrix_stop_words = vectorizer_stop_words.fit_transform(document)\n",
    "print(sparse_matrix_stop_words)"
   ]
  },
  {
   "cell_type": "code",
   "execution_count": 39,
   "metadata": {},
   "outputs": [
    {
     "name": "stdout",
     "output_type": "stream",
     "text": [
      "  (0, 7)\t1.7735971602918106\n",
      "  (0, 11)\t1.258420201767527\n",
      "  (0, 8)\t1.258420201767527\n",
      "  (0, 0)\t1.258420201767527\n",
      "  (0, 4)\t1.7735971602918106\n",
      "  (0, 10)\t0.9570609997952424\n",
      "  (0, 9)\t1.258420201767527\n",
      "  (1, 2)\t1.258420201767527\n",
      "  (1, 10)\t0.9570609997952424\n",
      "  (1, 9)\t1.258420201767527\n",
      "  (2, 13)\t1.7735971602918106\n",
      "  (2, 2)\t1.258420201767527\n",
      "  (2, 11)\t1.258420201767527\n",
      "  (2, 8)\t1.258420201767527\n",
      "  (2, 10)\t0.9570609997952424\n",
      "  (3, 5)\t1.7735971602918106\n",
      "  (3, 3)\t1.7735971602918106\n",
      "  (3, 1)\t1.7735971602918106\n",
      "  (3, 14)\t1.7735971602918106\n",
      "  (3, 12)\t1.7735971602918106\n",
      "  (3, 6)\t1.7735971602918106\n",
      "  (3, 0)\t1.258420201767527\n"
     ]
    }
   ],
   "source": [
    "vectorizer_smooth_idf = LTUVectorizer(smooth_idf=False)\n",
    "sparse_matrix_smooth_idf = vectorizer_smooth_idf.fit_transform(document)\n",
    "print(sparse_matrix_smooth_idf)"
   ]
  },
  {
   "cell_type": "code",
   "execution_count": 40,
   "metadata": {},
   "outputs": [
    {
     "name": "stdout",
     "output_type": "stream",
     "text": [
      "  (0, 7)\t1.3476661267766539\n",
      "  (0, 11)\t1.062515453813376\n",
      "  (0, 8)\t1.062515453813376\n",
      "  (0, 0)\t1.062515453813376\n",
      "  (0, 4)\t1.3476661267766539\n",
      "  (0, 10)\t0.8601978316094646\n",
      "  (0, 9)\t1.062515453813376\n",
      "  (1, 2)\t1.062515453813376\n",
      "  (1, 10)\t0.8601978316094646\n",
      "  (1, 9)\t1.062515453813376\n",
      "  (2, 13)\t1.3476661267766539\n",
      "  (2, 2)\t1.062515453813376\n",
      "  (2, 11)\t1.062515453813376\n",
      "  (2, 8)\t1.062515453813376\n",
      "  (2, 10)\t0.8601978316094646\n",
      "  (3, 5)\t1.3476661267766539\n",
      "  (3, 3)\t1.3476661267766539\n",
      "  (3, 1)\t1.3476661267766539\n",
      "  (3, 14)\t1.3476661267766539\n",
      "  (3, 12)\t1.3476661267766539\n",
      "  (3, 6)\t1.3476661267766539\n",
      "  (3, 0)\t1.062515453813376\n"
     ]
    }
   ],
   "source": [
    "vectorizer_sublinear_tf = LTUVectorizer(sublinear_tf=True)\n",
    "sparse_matrix_sublinear_tf = vectorizer_sublinear_tf.fit_transform(document)\n",
    "print(sparse_matrix_sublinear_tf)"
   ]
  }
 ],
 "metadata": {
  "kernelspec": {
   "display_name": "Python 3 (ipykernel)",
   "language": "python",
   "name": "python3"
  },
  "language_info": {
   "codemirror_mode": {
    "name": "ipython",
    "version": 3
   },
   "file_extension": ".py",
   "mimetype": "text/x-python",
   "name": "python",
   "nbconvert_exporter": "python",
   "pygments_lexer": "ipython3",
   "version": "3.10.12"
  }
 },
 "nbformat": 4,
 "nbformat_minor": 1
}
